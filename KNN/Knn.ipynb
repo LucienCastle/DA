{
 "cells": [
  {
   "cell_type": "code",
   "execution_count": 1,
   "id": "affiliated-party",
   "metadata": {},
   "outputs": [],
   "source": [
    "import math\n",
    "import operator \n",
    "import matplotlib.pyplot as plt\n",
    "import pandas as pd\n",
    "\n",
    "from sklearn.neighbors import KNeighborsClassifier \n",
    "from sklearn.model_selection import train_test_split "
   ]
  },
  {
   "cell_type": "code",
   "execution_count": 2,
   "id": "dental-beaver",
   "metadata": {},
   "outputs": [],
   "source": [
    "'''\n",
    "Finds euclidiean distance b/w 2 point\n",
    "sqrt((x1-x2)^2+(y1-y2)^2)\n",
    "'''\n",
    "def euclideanDistance(data1, data2, length):\n",
    "    distance = 0\n",
    "    for x in range(length):\n",
    "        distance += pow((data1[x] - data2[x]), 2)\n",
    "    return math.sqrt(distance)"
   ]
  },
  {
   "cell_type": "code",
   "execution_count": 3,
   "id": "addressed-eclipse",
   "metadata": {},
   "outputs": [],
   "source": [
    "'''Finds k-nearest neighbour to the given data point'''\n",
    "def getKNeighbours(trainingSet, testData, k):\n",
    "    distances = []\n",
    "    for x in range(len(trainingSet)):  # Calcualtes distance of point of training set from the test data point\n",
    "        dist = euclideanDistance(testData, trainingSet[x], len(testData)) \n",
    "        distances.append((trainingSet[x], dist))\n",
    "    distances.sort(key=operator.itemgetter(1))\n",
    "    neighbours = []\n",
    "    for x in range(k): # K-nearest neighours\n",
    "        neighbours.append(distances[x][0])\n",
    "    return neighbours"
   ]
  },
  {
   "cell_type": "code",
   "execution_count": 4,
   "id": "manual-sampling",
   "metadata": {},
   "outputs": [
    {
     "name": "stdout",
     "output_type": "stream",
     "text": [
      "Neighbours : [[6, 4, 'orange'], [4, 6, 'orange'], [4, 4, 'blue']]\n"
     ]
    }
   ],
   "source": [
    "# Train and test datasets\n",
    "trainSet = [[4, 4,'blue'], [6, 2,'blue'],[2,4,'orange'],[6,4,'orange'],[4,6,'orange'],[4,2,'orange']]\n",
    "testSet = [6, 6 ]\n",
    "k = 3\n",
    "neighbours = getKNeighbours(trainSet, testSet, k)\n",
    "print('Neighbours :',neighbours)"
   ]
  },
  {
   "cell_type": "code",
   "execution_count": 5,
   "id": "convinced-economics",
   "metadata": {},
   "outputs": [
    {
     "data": {
      "image/png": "[encoded data removed]",
      "text/plain": [
       "<Figure size 432x288 with 1 Axes>"
      ]
     },
     "metadata": {
      "needs_background": "light"
     },
     "output_type": "display_data"
    }
   ],
   "source": [
    "#plotting the datapoints and neightbours\n",
    "plt.plot()\n",
    "for item in trainSet:\n",
    "    plt.scatter(item[0],item[1],c=item[2])\n",
    "label = 'Neighbour'\n",
    "for item in neighbours:\n",
    "    plt.annotate(label,(item[0],item[1]),textcoords=\"offset points\",xytext=(0,10),ha='center') \n",
    "\n",
    "plt.scatter(testSet[0],testSet[1],c='green',label='test')\n",
    "label = 'Test Point'\n",
    "plt.annotate(label,(testSet[0],testSet[1]),textcoords=\"offset points\",xytext=(0,10),ha='center') \n",
    "plt.grid()\n",
    "plt.axis([0, 10, 0 , 10])\n",
    "plt.show()"
   ]
  },
  {
   "cell_type": "code",
   "execution_count": 6,
   "id": "danish-macro",
   "metadata": {},
   "outputs": [],
   "source": [
    "#predicts the class of test data based on the k-nearest neighbours\n",
    "def predict(neighbours):\n",
    "    classVotes = {} # dictionary with labels and their counters\n",
    "    for x in range(len(neighbours)):\n",
    "        response = neighbours[x][-1]   # gets label \n",
    "        if response in classVotes:\n",
    "            classVotes[response] += 1  # increase vote counter of label\n",
    "        else:\n",
    "            classVotes[response] = 1\n",
    "    sortedVotes = sorted(classVotes.items(), key=operator.itemgetter(1), reverse=True)\n",
    "    return sortedVotes[0][0]"
   ]
  },
  {
   "cell_type": "code",
   "execution_count": 7,
   "id": "crucial-complement",
   "metadata": {},
   "outputs": [
    {
     "name": "stdout",
     "output_type": "stream",
     "text": [
      "Prediction for test data points : orange\n"
     ]
    }
   ],
   "source": [
    "print('Prediction for test data points :',predict(neighbours))"
   ]
  },
  {
   "cell_type": "code",
   "execution_count": 8,
   "id": "coupled-affiliate",
   "metadata": {},
   "outputs": [],
   "source": [
    "# weighted k-nearest neighbours\n",
    "def getKWeightedNeighbours(trainingSet, testData, k):\n",
    "    distances = []\n",
    "    for x in range(len(trainingSet)):\n",
    "        dist = euclideanDistance(testData, trainingSet[x], len(testData))\n",
    "        distances.append((trainingSet[x], dist))\n",
    "    distances.sort(key=operator.itemgetter(1))\n",
    "    neighbours = []\n",
    "    for x in range(k):\n",
    "        neighbours.append(distances[x][0])\n",
    "    classVotes = {}\n",
    "    \n",
    "    #kernel to assign weights to neighbours\n",
    "    for x in range(len(neighbours)):\n",
    "        response = neighbours[x][-1]\n",
    "        if response in classVotes:\n",
    "            classVotes[response] += 1/distances[x][1] \n",
    "        else:\n",
    "            classVotes[response] = 1/distances[x][1]\n",
    "        sortedVotes = sorted(classVotes.items(), key=operator.itemgetter(1), reverse=True)\n",
    "    print('Weighted Votes:',sortedVotes)\n",
    "    return neighbours, sortedVotes[0][0]"
   ]
  },
  {
   "cell_type": "code",
   "execution_count": 9,
   "id": "physical-calendar",
   "metadata": {},
   "outputs": [
    {
     "name": "stdout",
     "output_type": "stream",
     "text": [
      "Weighted Votes: [('orange', 1.0), ('blue', 0.35355339059327373)]\n",
      "Neighbours : [[6, 4, 'orange'], [4, 6, 'orange'], [4, 4, 'blue']]\n",
      "Prediction for test data : orange\n"
     ]
    }
   ],
   "source": [
    "neighbours,predictions = getKWeightedNeighbours(trainSet, testSet, k)\n",
    "print('Neighbours :',neighbours)\n",
    "print('Prediction for test data :',predictions)"
   ]
  },
  {
   "cell_type": "code",
   "execution_count": 10,
   "id": "addressed-parallel",
   "metadata": {},
   "outputs": [
    {
     "data": {
      "text/plain": [
       "(   0  1\n",
       " 0  4  4\n",
       " 1  6  2\n",
       " 2  2  4\n",
       " 3  6  4\n",
       " 4  4  6\n",
       " 5  4  2,\n",
       "         2\n",
       " 0    blue\n",
       " 1    blue\n",
       " 2  orange\n",
       " 3  orange\n",
       " 4  orange\n",
       " 5  orange)"
      ]
     },
     "execution_count": 10,
     "metadata": {},
     "output_type": "execute_result"
    }
   ],
   "source": [
    "df = pd.DataFrame(trainSet)\n",
    "x = df.drop(df.columns[2],axis = 1)\n",
    "y = df.iloc[:,2:3]\n",
    "x,y"
   ]
  },
  {
   "cell_type": "code",
   "execution_count": 11,
   "id": "parliamentary-republican",
   "metadata": {},
   "outputs": [
    {
     "name": "stdout",
     "output_type": "stream",
     "text": [
      "['orange' 'orange' 'orange']\n",
      "        2\n",
      "0    blue\n",
      "1    blue\n",
      "5  orange\n"
     ]
    },
    {
     "name": "stderr",
     "output_type": "stream",
     "text": [
      "<ipython-input-11-4fd5d538a447>:5: DataConversionWarning: A column-vector y was passed when a 1d array was expected. Please change the shape of y to (n_samples, ), for example using ravel().\n",
      "  knn.fit(X_train, y_train)\n"
     ]
    }
   ],
   "source": [
    "# Split into training and test set \n",
    "X_train, X_test, y_train, y_test = train_test_split(x, y, test_size = 0.5, random_state=42) \n",
    "  \n",
    "knn = KNeighborsClassifier(n_neighbors=3)   \n",
    "knn.fit(X_train, y_train) \n",
    "y_pred = knn.predict(X_test) \n",
    "\n",
    "# Predict on dataset which model has not seen before \n",
    "print(y_pred) \n",
    "print(y_test)"
   ]
  },
  {
   "cell_type": "code",
   "execution_count": 12,
   "id": "sustained-composition",
   "metadata": {},
   "outputs": [
    {
     "name": "stdout",
     "output_type": "stream",
     "text": [
      "['orange']\n"
     ]
    }
   ],
   "source": [
    "print(knn.predict([[6,6]]))"
   ]
  },
  {
   "cell_type": "code",
   "execution_count": 13,
   "id": "conceptual-roberts",
   "metadata": {},
   "outputs": [
    {
     "data": {
      "text/plain": [
       "0.3333333333333333"
      ]
     },
     "execution_count": 13,
     "metadata": {},
     "output_type": "execute_result"
    }
   ],
   "source": [
    "from sklearn.metrics import accuracy_score\n",
    "accuracy_score(y_test, y_pred)"
   ]
  }
 ],
 "metadata": {
  "kernelspec": {
   "display_name": "Python 3",
   "language": "python",
   "name": "python3"
  },
  "language_info": {
   "codemirror_mode": {
    "name": "ipython",
    "version": 3
   },
   "file_extension": ".py",
   "mimetype": "text/x-python",
   "name": "python",
   "nbconvert_exporter": "python",
   "pygments_lexer": "ipython3",
   "version": "3.8.5"
  }
 },
 "nbformat": 4,
 "nbformat_minor": 5
}
