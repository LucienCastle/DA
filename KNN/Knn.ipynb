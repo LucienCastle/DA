{
 "cells": [
  {
   "cell_type": "code",
   "execution_count": 1,
   "id": "retired-carnival",
   "metadata": {},
   "outputs": [],
   "source": [
    "import math\n",
    "import operator \n",
    "import matplotlib.pyplot as plt\n",
    "import pandas as pd\n",
    "import numpy as np\n",
    "import seaborn as sns\n",
    "\n",
    "from sklearn.neighbors import KNeighborsClassifier \n",
    "from sklearn.model_selection import train_test_split "
   ]
  },
  {
   "cell_type": "code",
   "execution_count": 2,
   "id": "fleet-nashville",
   "metadata": {},
   "outputs": [],
   "source": [
    "'''\n",
    "Finds euclidiean distance b/w 2 point\n",
    "sqrt((x1-x2)^2+(y1-y2)^2)\n",
    "'''\n",
    "def euclideanDistance(data1, data2, length):\n",
    "    distance = 0\n",
    "    for x in range(length):\n",
    "        distance += pow((data1[x] - data2[x]), 2)\n",
    "    return math.sqrt(distance)"
   ]
  },
  {
   "cell_type": "code",
   "execution_count": 3,
   "id": "adjustable-penny",
   "metadata": {},
   "outputs": [],
   "source": [
    "'''Finds k-nearest neighbour to the given data point'''\n",
    "def getKNeighbours(trainingSet, testData, k):\n",
    "    distances = []\n",
    "    for x in range(len(trainingSet)):  # Calcualtes distance of point of training set from the test data point\n",
    "        dist = euclideanDistance(testData, trainingSet[x], len(testData)) \n",
    "        distances.append((trainingSet[x], dist))\n",
    "    distances.sort(key=operator.itemgetter(1))\n",
    "    neighbours = []\n",
    "    for x in range(k): # K-nearest neighours\n",
    "        neighbours.append(distances[x][0])\n",
    "    return neighbours"
   ]
  },
  {
   "cell_type": "code",
   "execution_count": 4,
   "id": "detected-barcelona",
   "metadata": {},
   "outputs": [
    {
     "name": "stdout",
     "output_type": "stream",
     "text": [
      "Neighbours : [[6, 4, 'orange'], [4, 6, 'orange'], [4, 4, 'blue']]\n"
     ]
    }
   ],
   "source": [
    "# Train and test datasets\n",
    "trainSet = [[4, 4,'blue'], [6, 2,'blue'],[2,4,'orange'],[6,4,'orange'],[4,6,'orange'],[4,2,'orange']]\n",
    "testSet = [6, 6 ]\n",
    "k = 3\n",
    "neighbours = getKNeighbours(trainSet, testSet, k)\n",
    "print('Neighbours :',neighbours)"
   ]
  },
  {
   "cell_type": "code",
   "execution_count": 5,
   "id": "changing-anchor",
   "metadata": {},
   "outputs": [
    {
     "data": {
      "image/png": "[encoded data removed]",
      "text/plain": [
       "<Figure size 432x288 with 1 Axes>"
      ]
     },
     "metadata": {
      "needs_background": "light"
     },
     "output_type": "display_data"
    }
   ],
   "source": [
    "#plotting the datapoints and neightbours\n",
    "plt.plot()\n",
    "for item in trainSet:\n",
    "    plt.scatter(item[0],item[1],c=item[2])\n",
    "label = 'Neighbour'\n",
    "for item in neighbours:\n",
    "    plt.annotate(label,(item[0],item[1]),textcoords=\"offset points\",xytext=(0,10),ha='center') \n",
    "\n",
    "plt.scatter(testSet[0],testSet[1],c='green',label='test')\n",
    "label = 'Test Point'\n",
    "plt.annotate(label,(testSet[0],testSet[1]),textcoords=\"offset points\",xytext=(0,10),ha='center') \n",
    "plt.grid()\n",
    "plt.axis([0, 10, 0 , 10])\n",
    "plt.show()"
   ]
  },
  {
   "cell_type": "code",
   "execution_count": 6,
   "id": "stock-paper",
   "metadata": {},
   "outputs": [],
   "source": [
    "#predicts the class of test data based on the k-nearest neighbours\n",
    "def predict(neighbours):\n",
    "    classVotes = {} # dictionary with labels and their counters\n",
    "    for x in range(len(neighbours)):\n",
    "        response = neighbours[x][-1]   # gets label \n",
    "        if response in classVotes:\n",
    "            classVotes[response] += 1  # increase vote counter of label\n",
    "        else:\n",
    "            classVotes[response] = 1\n",
    "    sortedVotes = sorted(classVotes.items(), key=operator.itemgetter(1), reverse=True)\n",
    "    return sortedVotes[0][0]"
   ]
  },
  {
   "cell_type": "code",
   "execution_count": 7,
   "id": "silent-subsection",
   "metadata": {},
   "outputs": [
    {
     "name": "stdout",
     "output_type": "stream",
     "text": [
      "Prediction for test data points : orange\n"
     ]
    }
   ],
   "source": [
    "print('Prediction for test data points :',predict(neighbours))"
   ]
  },
  {
   "cell_type": "code",
   "execution_count": 8,
   "id": "sonic-sympathy",
   "metadata": {},
   "outputs": [],
   "source": [
    "# weighted k-nearest neighbours\n",
    "def getKWeightedNeighbours(trainingSet, testData, k):\n",
    "    distances = []\n",
    "    for x in range(len(trainingSet)):\n",
    "        dist = euclideanDistance(testData, trainingSet[x], len(testData))\n",
    "        distances.append((trainingSet[x], dist))\n",
    "    distances.sort(key=operator.itemgetter(1))\n",
    "    neighbours = []\n",
    "    for x in range(k):\n",
    "        neighbours.append(distances[x][0])\n",
    "    classVotes = {}\n",
    "    \n",
    "    #kernel to assign weights to neighbours\n",
    "    for x in range(len(neighbours)):\n",
    "        response = neighbours[x][-1]\n",
    "        if response in classVotes:\n",
    "            classVotes[response] += 1/distances[x][1] \n",
    "        else:\n",
    "            classVotes[response] = 1/distances[x][1]\n",
    "        sortedVotes = sorted(classVotes.items(), key=operator.itemgetter(1), reverse=True)\n",
    "    print('Weighted Votes:',sortedVotes)\n",
    "    return neighbours, sortedVotes[0][0]"
   ]
  },
  {
   "cell_type": "code",
   "execution_count": 9,
   "id": "blank-evans",
   "metadata": {},
   "outputs": [
    {
     "name": "stdout",
     "output_type": "stream",
     "text": [
      "Weighted Votes: [('orange', 1.0), ('blue', 0.35355339059327373)]\n",
      "Neighbours : [[6, 4, 'orange'], [4, 6, 'orange'], [4, 4, 'blue']]\n",
      "Prediction for test data : orange\n"
     ]
    }
   ],
   "source": [
    "'''Training distance weighted knn on sample dataset'''\n",
    "neighbours,predictions = getKWeightedNeighbours(trainSet, testSet, k)\n",
    "print('Neighbours :',neighbours)\n",
    "print('Prediction for test data :',predictions)"
   ]
  },
  {
   "cell_type": "code",
   "execution_count": 10,
   "id": "found-capacity",
   "metadata": {},
   "outputs": [],
   "source": [
    "'''Locally weighted KNN model'''\n",
    "def getKLocallyWeightedNeighbours(trainingSet, testData, k):\n",
    "    distances = []\n",
    "    for x in range(len(trainingSet)):\n",
    "        dist = euclideanDistance(testData, trainingSet[x], len(testData))\n",
    "        distances.append((trainingSet[x], dist))\n",
    "    distances.sort(key=operator.itemgetter(1))\n",
    "    neighbours = []\n",
    "    for x in range(k):\n",
    "        neighbours.append(distances[x][0])\n",
    "    classVotes = {}\n",
    "    \n",
    "    #kernel to assign weights to neighbours\n",
    "    sums = {}\n",
    "    for x in range(len(neighbours)):\n",
    "        response = neighbours[x][-1]\n",
    "        if response in classVotes:\n",
    "            wi = 1/(math.exp(2*distances[x][1]))\n",
    "            classVotes[response] += wi \n",
    "        else:\n",
    "            wi = 1/(math.exp(2*distances[x][1]))\n",
    "            classVotes[response] = wi\n",
    "        \n",
    "        sortedVotes = sorted(classVotes.items(), key=operator.itemgetter(1), reverse=True)\n",
    "    print('Weighted Votes:',sortedVotes)\n",
    "    return neighbours, sortedVotes[0][0]"
   ]
  },
  {
   "cell_type": "code",
   "execution_count": 11,
   "id": "consolidated-danger",
   "metadata": {},
   "outputs": [
    {
     "name": "stdout",
     "output_type": "stream",
     "text": [
      "Weighted Votes: [('orange', 0.036631277777468364), ('blue', 0.0034934892766462005)]\n",
      "Neighbours : [[6, 4, 'orange'], [4, 6, 'orange'], [4, 4, 'blue']]\n",
      "Prediction for test data : orange\n"
     ]
    }
   ],
   "source": [
    "'''training locally weighted knn on sample dataset'''\n",
    "neighbours,predictions = getKLocallyWeightedNeighbours(trainSet, testSet, k)\n",
    "print('Neighbours :',neighbours)\n",
    "print('Prediction for test data :',predictions)"
   ]
  },
  {
   "cell_type": "code",
   "execution_count": 12,
   "id": "touched-magnitude",
   "metadata": {},
   "outputs": [
    {
     "data": {
      "text/html": [
       "<div>\n",
       "<style scoped>\n",
       "    .dataframe tbody tr th:only-of-type {\n",
       "        vertical-align: middle;\n",
       "    }\n",
       "\n",
       "    .dataframe tbody tr th {\n",
       "        vertical-align: top;\n",
       "    }\n",
       "\n",
       "    .dataframe thead th {\n",
       "        text-align: right;\n",
       "    }\n",
       "</style>\n",
       "<table border=\"1\" class=\"dataframe\">\n",
       "  <thead>\n",
       "    <tr style=\"text-align: right;\">\n",
       "      <th></th>\n",
       "      <th>Pregnancies</th>\n",
       "      <th>Glucose</th>\n",
       "      <th>BloodPressure</th>\n",
       "      <th>SkinThickness</th>\n",
       "      <th>Insulin</th>\n",
       "      <th>BMI</th>\n",
       "      <th>DiabetesPedigreeFunction</th>\n",
       "      <th>Age</th>\n",
       "      <th>Outcome</th>\n",
       "    </tr>\n",
       "  </thead>\n",
       "  <tbody>\n",
       "    <tr>\n",
       "      <th>count</th>\n",
       "      <td>768.000000</td>\n",
       "      <td>768.000000</td>\n",
       "      <td>768.000000</td>\n",
       "      <td>768.000000</td>\n",
       "      <td>768.000000</td>\n",
       "      <td>768.000000</td>\n",
       "      <td>768.000000</td>\n",
       "      <td>768.000000</td>\n",
       "      <td>768.000000</td>\n",
       "    </tr>\n",
       "    <tr>\n",
       "      <th>mean</th>\n",
       "      <td>3.845052</td>\n",
       "      <td>120.894531</td>\n",
       "      <td>69.105469</td>\n",
       "      <td>20.536458</td>\n",
       "      <td>79.799479</td>\n",
       "      <td>31.992578</td>\n",
       "      <td>0.471876</td>\n",
       "      <td>33.240885</td>\n",
       "      <td>0.348958</td>\n",
       "    </tr>\n",
       "    <tr>\n",
       "      <th>std</th>\n",
       "      <td>3.369578</td>\n",
       "      <td>31.972618</td>\n",
       "      <td>19.355807</td>\n",
       "      <td>15.952218</td>\n",
       "      <td>115.244002</td>\n",
       "      <td>7.884160</td>\n",
       "      <td>0.331329</td>\n",
       "      <td>11.760232</td>\n",
       "      <td>0.476951</td>\n",
       "    </tr>\n",
       "    <tr>\n",
       "      <th>min</th>\n",
       "      <td>0.000000</td>\n",
       "      <td>0.000000</td>\n",
       "      <td>0.000000</td>\n",
       "      <td>0.000000</td>\n",
       "      <td>0.000000</td>\n",
       "      <td>0.000000</td>\n",
       "      <td>0.078000</td>\n",
       "      <td>21.000000</td>\n",
       "      <td>0.000000</td>\n",
       "    </tr>\n",
       "    <tr>\n",
       "      <th>25%</th>\n",
       "      <td>1.000000</td>\n",
       "      <td>99.000000</td>\n",
       "      <td>62.000000</td>\n",
       "      <td>0.000000</td>\n",
       "      <td>0.000000</td>\n",
       "      <td>27.300000</td>\n",
       "      <td>0.243750</td>\n",
       "      <td>24.000000</td>\n",
       "      <td>0.000000</td>\n",
       "    </tr>\n",
       "    <tr>\n",
       "      <th>50%</th>\n",
       "      <td>3.000000</td>\n",
       "      <td>117.000000</td>\n",
       "      <td>72.000000</td>\n",
       "      <td>23.000000</td>\n",
       "      <td>30.500000</td>\n",
       "      <td>32.000000</td>\n",
       "      <td>0.372500</td>\n",
       "      <td>29.000000</td>\n",
       "      <td>0.000000</td>\n",
       "    </tr>\n",
       "    <tr>\n",
       "      <th>75%</th>\n",
       "      <td>6.000000</td>\n",
       "      <td>140.250000</td>\n",
       "      <td>80.000000</td>\n",
       "      <td>32.000000</td>\n",
       "      <td>127.250000</td>\n",
       "      <td>36.600000</td>\n",
       "      <td>0.626250</td>\n",
       "      <td>41.000000</td>\n",
       "      <td>1.000000</td>\n",
       "    </tr>\n",
       "    <tr>\n",
       "      <th>max</th>\n",
       "      <td>17.000000</td>\n",
       "      <td>199.000000</td>\n",
       "      <td>122.000000</td>\n",
       "      <td>99.000000</td>\n",
       "      <td>846.000000</td>\n",
       "      <td>67.100000</td>\n",
       "      <td>2.420000</td>\n",
       "      <td>81.000000</td>\n",
       "      <td>1.000000</td>\n",
       "    </tr>\n",
       "  </tbody>\n",
       "</table>\n",
       "</div>"
      ],
      "text/plain": [
       "       Pregnancies     Glucose  BloodPressure  SkinThickness     Insulin  \\\n",
       "count   768.000000  768.000000     768.000000     768.000000  768.000000   \n",
       "mean      3.845052  120.894531      69.105469      20.536458   79.799479   \n",
       "std       3.369578   31.972618      19.355807      15.952218  115.244002   \n",
       "min       0.000000    0.000000       0.000000       0.000000    0.000000   \n",
       "25%       1.000000   99.000000      62.000000       0.000000    0.000000   \n",
       "50%       3.000000  117.000000      72.000000      23.000000   30.500000   \n",
       "75%       6.000000  140.250000      80.000000      32.000000  127.250000   \n",
       "max      17.000000  199.000000     122.000000      99.000000  846.000000   \n",
       "\n",
       "              BMI  DiabetesPedigreeFunction         Age     Outcome  \n",
       "count  768.000000                768.000000  768.000000  768.000000  \n",
       "mean    31.992578                  0.471876   33.240885    0.348958  \n",
       "std      7.884160                  0.331329   11.760232    0.476951  \n",
       "min      0.000000                  0.078000   21.000000    0.000000  \n",
       "25%     27.300000                  0.243750   24.000000    0.000000  \n",
       "50%     32.000000                  0.372500   29.000000    0.000000  \n",
       "75%     36.600000                  0.626250   41.000000    1.000000  \n",
       "max     67.100000                  2.420000   81.000000    1.000000  "
      ]
     },
     "execution_count": 12,
     "metadata": {},
     "output_type": "execute_result"
    }
   ],
   "source": [
    "pdata = pd.read_csv('diabetes.csv')\n",
    "pdata.describe()"
   ]
  },
  {
   "cell_type": "code",
   "execution_count": 13,
   "id": "listed-sarah",
   "metadata": {},
   "outputs": [
    {
     "data": {
      "text/plain": [
       "False"
      ]
     },
     "execution_count": 13,
     "metadata": {},
     "output_type": "execute_result"
    }
   ],
   "source": [
    "'''Checking for null values'''\n",
    "pdata.isnull().values.any()"
   ]
  },
  {
   "cell_type": "code",
   "execution_count": 14,
   "id": "south-account",
   "metadata": {},
   "outputs": [],
   "source": [
    "'''Handling zero values'''\n",
    "df1 = pdata.loc[pdata['Outcome'] == 1]\n",
    "df2 = pdata.loc[pdata['Outcome'] == 0]\n",
    "df1 = df1.replace({'BloodPressure':0}, np.median(df1['BloodPressure']))\n",
    "df2 = df2.replace({'BloodPressure':0}, np.median(df2['BloodPressure']))\n",
    "dataframe = [df1, df2]\n",
    "pdata = pd.concat(dataframe)\n",
    "\n",
    "df1B = pdata.loc[pdata['Outcome'] == 1]\n",
    "df2B = pdata.loc[pdata['Outcome'] == 0]\n",
    "df1B = df1B.replace({'BMI':0}, np.mean(df1B['BMI']))\n",
    "df2B = df2B.replace({'BMI':0}, np.mean(df2B['BMI']))\n",
    "dataframe = [df1B, df2B]\n",
    "pdata = pd.concat(dataframe)\n",
    "\n",
    "df1G = pdata.loc[pdata['Outcome'] == 1]\n",
    "df2G = pdata.loc[pdata['Outcome'] == 0]\n",
    "df1G = df1G.replace({'Glucose':0}, np.mean(df1G['Glucose']))\n",
    "df2G = df2G.replace({'Glucose':0}, np.mean(df2G['Glucose']))\n",
    "dataframe = [df1G, df2G]\n",
    "pdata = pd.concat(dataframe)\n",
    "\n",
    "df1I = pdata.loc[pdata['Outcome'] == 1]\n",
    "df2I = pdata.loc[pdata['Outcome'] == 0]\n",
    "df1I = df1I.replace({'Insulin':0}, np.mean(df1I['Insulin']))\n",
    "df2I = df2I.replace({'Insulin':0}, np.mean(df2I['Insulin']))\n",
    "dataframe = [df1I, df2I]\n",
    "pdata = pd.concat(dataframe)\n",
    "\n",
    "df1S = pdata.loc[pdata['Outcome'] == 1]\n",
    "df2S = pdata.loc[pdata['Outcome'] == 0]\n",
    "df1S = df1S.replace({'SkinThickness':0}, np.mean(df1S['SkinThickness']))\n",
    "df2S = df2S.replace({'SkinThickness':0}, np.mean(df2S['SkinThickness']))\n",
    "dataframe = [df1S, df2S]\n",
    "pdata = pd.concat(dataframe)"
   ]
  },
  {
   "cell_type": "code",
   "execution_count": 15,
   "id": "numerical-composite",
   "metadata": {},
   "outputs": [
    {
     "data": {
      "text/html": [
       "<div>\n",
       "<style scoped>\n",
       "    .dataframe tbody tr th:only-of-type {\n",
       "        vertical-align: middle;\n",
       "    }\n",
       "\n",
       "    .dataframe tbody tr th {\n",
       "        vertical-align: top;\n",
       "    }\n",
       "\n",
       "    .dataframe thead th {\n",
       "        text-align: right;\n",
       "    }\n",
       "</style>\n",
       "<table border=\"1\" class=\"dataframe\">\n",
       "  <thead>\n",
       "    <tr style=\"text-align: right;\">\n",
       "      <th></th>\n",
       "      <th>Pregnancies</th>\n",
       "      <th>Glucose</th>\n",
       "      <th>BloodPressure</th>\n",
       "      <th>SkinThickness</th>\n",
       "      <th>Insulin</th>\n",
       "      <th>BMI</th>\n",
       "      <th>DiabetesPedigreeFunction</th>\n",
       "      <th>Age</th>\n",
       "      <th>Outcome</th>\n",
       "    </tr>\n",
       "  </thead>\n",
       "  <tbody>\n",
       "    <tr>\n",
       "      <th>count</th>\n",
       "      <td>768.000000</td>\n",
       "      <td>768.000000</td>\n",
       "      <td>768.000000</td>\n",
       "      <td>768.000000</td>\n",
       "      <td>768.000000</td>\n",
       "      <td>768.000000</td>\n",
       "      <td>768.000000</td>\n",
       "      <td>768.000000</td>\n",
       "      <td>768.000000</td>\n",
       "    </tr>\n",
       "    <tr>\n",
       "      <th>mean</th>\n",
       "      <td>3.845052</td>\n",
       "      <td>121.691999</td>\n",
       "      <td>72.378906</td>\n",
       "      <td>26.635083</td>\n",
       "      <td>118.967780</td>\n",
       "      <td>32.439222</td>\n",
       "      <td>0.471876</td>\n",
       "      <td>33.240885</td>\n",
       "      <td>0.348958</td>\n",
       "    </tr>\n",
       "    <tr>\n",
       "      <th>std</th>\n",
       "      <td>3.369578</td>\n",
       "      <td>30.461151</td>\n",
       "      <td>12.104431</td>\n",
       "      <td>9.636089</td>\n",
       "      <td>93.557899</td>\n",
       "      <td>6.880449</td>\n",
       "      <td>0.331329</td>\n",
       "      <td>11.760232</td>\n",
       "      <td>0.476951</td>\n",
       "    </tr>\n",
       "    <tr>\n",
       "      <th>min</th>\n",
       "      <td>0.000000</td>\n",
       "      <td>44.000000</td>\n",
       "      <td>24.000000</td>\n",
       "      <td>7.000000</td>\n",
       "      <td>14.000000</td>\n",
       "      <td>18.200000</td>\n",
       "      <td>0.078000</td>\n",
       "      <td>21.000000</td>\n",
       "      <td>0.000000</td>\n",
       "    </tr>\n",
       "    <tr>\n",
       "      <th>25%</th>\n",
       "      <td>1.000000</td>\n",
       "      <td>99.750000</td>\n",
       "      <td>64.000000</td>\n",
       "      <td>19.664000</td>\n",
       "      <td>68.792000</td>\n",
       "      <td>27.500000</td>\n",
       "      <td>0.243750</td>\n",
       "      <td>24.000000</td>\n",
       "      <td>0.000000</td>\n",
       "    </tr>\n",
       "    <tr>\n",
       "      <th>50%</th>\n",
       "      <td>3.000000</td>\n",
       "      <td>117.000000</td>\n",
       "      <td>72.000000</td>\n",
       "      <td>23.000000</td>\n",
       "      <td>100.000000</td>\n",
       "      <td>32.050000</td>\n",
       "      <td>0.372500</td>\n",
       "      <td>29.000000</td>\n",
       "      <td>0.000000</td>\n",
       "    </tr>\n",
       "    <tr>\n",
       "      <th>75%</th>\n",
       "      <td>6.000000</td>\n",
       "      <td>141.000000</td>\n",
       "      <td>80.000000</td>\n",
       "      <td>32.000000</td>\n",
       "      <td>127.250000</td>\n",
       "      <td>36.600000</td>\n",
       "      <td>0.626250</td>\n",
       "      <td>41.000000</td>\n",
       "      <td>1.000000</td>\n",
       "    </tr>\n",
       "    <tr>\n",
       "      <th>max</th>\n",
       "      <td>17.000000</td>\n",
       "      <td>199.000000</td>\n",
       "      <td>122.000000</td>\n",
       "      <td>99.000000</td>\n",
       "      <td>846.000000</td>\n",
       "      <td>67.100000</td>\n",
       "      <td>2.420000</td>\n",
       "      <td>81.000000</td>\n",
       "      <td>1.000000</td>\n",
       "    </tr>\n",
       "  </tbody>\n",
       "</table>\n",
       "</div>"
      ],
      "text/plain": [
       "       Pregnancies     Glucose  BloodPressure  SkinThickness     Insulin  \\\n",
       "count   768.000000  768.000000     768.000000     768.000000  768.000000   \n",
       "mean      3.845052  121.691999      72.378906      26.635083  118.967780   \n",
       "std       3.369578   30.461151      12.104431       9.636089   93.557899   \n",
       "min       0.000000   44.000000      24.000000       7.000000   14.000000   \n",
       "25%       1.000000   99.750000      64.000000      19.664000   68.792000   \n",
       "50%       3.000000  117.000000      72.000000      23.000000  100.000000   \n",
       "75%       6.000000  141.000000      80.000000      32.000000  127.250000   \n",
       "max      17.000000  199.000000     122.000000      99.000000  846.000000   \n",
       "\n",
       "              BMI  DiabetesPedigreeFunction         Age     Outcome  \n",
       "count  768.000000                768.000000  768.000000  768.000000  \n",
       "mean    32.439222                  0.471876   33.240885    0.348958  \n",
       "std      6.880449                  0.331329   11.760232    0.476951  \n",
       "min     18.200000                  0.078000   21.000000    0.000000  \n",
       "25%     27.500000                  0.243750   24.000000    0.000000  \n",
       "50%     32.050000                  0.372500   29.000000    0.000000  \n",
       "75%     36.600000                  0.626250   41.000000    1.000000  \n",
       "max     67.100000                  2.420000   81.000000    1.000000  "
      ]
     },
     "execution_count": 15,
     "metadata": {},
     "output_type": "execute_result"
    }
   ],
   "source": [
    "pdata.describe()"
   ]
  },
  {
   "cell_type": "code",
   "execution_count": 16,
   "id": "disciplinary-least",
   "metadata": {},
   "outputs": [],
   "source": [
    "features_cols = ['Pregnancies', 'Glucose', 'BloodPressure', 'SkinThickness', 'Insulin', 'BMI', 'DiabetesPedigreeFunction', 'Age']\n",
    "predicted_class = ['Outcome']\n",
    "\n",
    "X = pdata[features_cols].values\n",
    "Y = pdata[predicted_class].values\n",
    "split_test_size = 0.30\n",
    "\n",
    "'''Splitting the dataset'''\n",
    "x_trainp, x_testp, y_trainp, y_testp = train_test_split(X, Y, test_size=split_test_size, random_state=52)"
   ]
  },
  {
   "cell_type": "code",
   "execution_count": 17,
   "id": "difficult-neutral",
   "metadata": {},
   "outputs": [
    {
     "name": "stdout",
     "output_type": "stream",
     "text": [
      "Neighbours : [array([  2.   ,  99.   ,  60.   ,  17.   , 160.   ,  36.6  ,   0.453,\n",
      "        21.   ,   0.   ]), array([  3.   , 106.   ,  54.   ,  21.   , 158.   ,  30.9  ,   0.292,\n",
      "        24.   ,   0.   ]), array([  2.   , 106.   ,  56.   ,  27.   , 165.   ,  29.   ,   0.426,\n",
      "        22.   ,   0.   ]), array([  2.   ,  93.   ,  64.   ,  32.   , 160.   ,  38.   ,   0.674,\n",
      "        23.   ,   1.   ]), array([  3.  , 103.  ,  72.  ,  30.  , 152.  ,  27.6 ,   0.73,  27.  ,\n",
      "         0.  ]), array([  1.   ,  97.   ,  66.   ,  15.   , 140.   ,  23.2  ,   0.487,\n",
      "        22.   ,   0.   ]), array([  6.   , 104.   ,  74.   ,  18.   , 156.   ,  29.9  ,   0.722,\n",
      "        41.   ,   1.   ])]\n"
     ]
    }
   ],
   "source": [
    "'''running our built knn model on diabetes dataset'''\n",
    "XX = pdata[features_cols + predicted_class].values\n",
    "XX_test = [2,99,60,17,161,36.6,0.453,21]\n",
    "k = 7\n",
    "neighbours = getKNeighbours(XX, XX_test, k)\n",
    "print('Neighbours :',neighbours)"
   ]
  },
  {
   "cell_type": "code",
   "execution_count": 18,
   "id": "recorded-maintenance",
   "metadata": {},
   "outputs": [
    {
     "name": "stdout",
     "output_type": "stream",
     "text": [
      "Prediction for test data points : 0.0\n"
     ]
    }
   ],
   "source": [
    "print('Prediction for test data points :',predict(neighbours))"
   ]
  },
  {
   "cell_type": "code",
   "execution_count": 19,
   "id": "korean-distinction",
   "metadata": {},
   "outputs": [
    {
     "name": "stdout",
     "output_type": "stream",
     "text": [
      "Weighted Votes: [(0.0, 1.227804480503915), (1.0, 0.09692145973326996)]\n",
      "Neighbours : [array([  2.   ,  99.   ,  60.   ,  17.   , 160.   ,  36.6  ,   0.453,\n",
      "        21.   ,   0.   ]), array([  3.   , 106.   ,  54.   ,  21.   , 158.   ,  30.9  ,   0.292,\n",
      "        24.   ,   0.   ]), array([  2.   , 106.   ,  56.   ,  27.   , 165.   ,  29.   ,   0.426,\n",
      "        22.   ,   0.   ]), array([  2.   ,  93.   ,  64.   ,  32.   , 160.   ,  38.   ,   0.674,\n",
      "        23.   ,   1.   ]), array([  3.  , 103.  ,  72.  ,  30.  , 152.  ,  27.6 ,   0.73,  27.  ,\n",
      "         0.  ]), array([  1.   ,  97.   ,  66.   ,  15.   , 140.   ,  23.2  ,   0.487,\n",
      "        22.   ,   0.   ]), array([  6.   , 104.   ,  74.   ,  18.   , 156.   ,  29.9  ,   0.722,\n",
      "        41.   ,   1.   ])]\n",
      "Prediction for test data : 0.0\n"
     ]
    }
   ],
   "source": [
    "'''distance weighted knn model on diabetes dataset'''\n",
    "neighbours,predictions = getKWeightedNeighbours(XX, XX_test, k)\n",
    "print('Neighbours :',neighbours)\n",
    "print('Prediction for test data :',predictions)"
   ]
  },
  {
   "cell_type": "code",
   "execution_count": 20,
   "id": "automated-policy",
   "metadata": {},
   "outputs": [
    {
     "name": "stdout",
     "output_type": "stream",
     "text": [
      "Weighted Votes: [(0.0, 0.13533528325540498), (1.0, 2.3017108467246495e-15)]\n",
      "Neighbours : [array([  2.   ,  99.   ,  60.   ,  17.   , 160.   ,  36.6  ,   0.453,\n",
      "        21.   ,   0.   ]), array([  3.   , 106.   ,  54.   ,  21.   , 158.   ,  30.9  ,   0.292,\n",
      "        24.   ,   0.   ]), array([  2.   , 106.   ,  56.   ,  27.   , 165.   ,  29.   ,   0.426,\n",
      "        22.   ,   0.   ]), array([  2.   ,  93.   ,  64.   ,  32.   , 160.   ,  38.   ,   0.674,\n",
      "        23.   ,   1.   ]), array([  3.  , 103.  ,  72.  ,  30.  , 152.  ,  27.6 ,   0.73,  27.  ,\n",
      "         0.  ]), array([  1.   ,  97.   ,  66.   ,  15.   , 140.   ,  23.2  ,   0.487,\n",
      "        22.   ,   0.   ]), array([  6.   , 104.   ,  74.   ,  18.   , 156.   ,  29.9  ,   0.722,\n",
      "        41.   ,   1.   ])]\n",
      "Prediction for test data : 0.0\n"
     ]
    }
   ],
   "source": [
    "'''locally weighted knn model on diabetes dataset'''\n",
    "neighbours,predictions = getKLocallyWeightedNeighbours(XX, XX_test, k)\n",
    "print('Neighbours :',neighbours)\n",
    "print('Prediction for test data :',predictions)"
   ]
  },
  {
   "cell_type": "code",
   "execution_count": 21,
   "id": "olive-australian",
   "metadata": {},
   "outputs": [
    {
     "data": {
      "text/plain": [
       "(   0  1\n",
       " 0  4  4\n",
       " 1  6  2\n",
       " 2  2  4\n",
       " 3  6  4\n",
       " 4  4  6\n",
       " 5  4  2,\n",
       "         2\n",
       " 0    blue\n",
       " 1    blue\n",
       " 2  orange\n",
       " 3  orange\n",
       " 4  orange\n",
       " 5  orange)"
      ]
     },
     "execution_count": 21,
     "metadata": {},
     "output_type": "execute_result"
    }
   ],
   "source": [
    "'''Converting sample dataset into pandas dataframes'''\n",
    "df = pd.DataFrame(trainSet)\n",
    "x = df.drop(df.columns[2],axis = 1)\n",
    "y = df.iloc[:,2:3]\n",
    "x,y"
   ]
  },
  {
   "cell_type": "code",
   "execution_count": 22,
   "id": "identical-concrete",
   "metadata": {},
   "outputs": [
    {
     "name": "stdout",
     "output_type": "stream",
     "text": [
      "['orange' 'orange' 'orange']\n",
      "        2\n",
      "0    blue\n",
      "1    blue\n",
      "5  orange\n"
     ]
    },
    {
     "name": "stderr",
     "output_type": "stream",
     "text": [
      "<ipython-input-22-24618e4c0c81>:6: DataConversionWarning: A column-vector y was passed when a 1d array was expected. Please change the shape of y to (n_samples, ), for example using ravel().\n",
      "  knn.fit(X_train, y_train)\n"
     ]
    }
   ],
   "source": [
    "'''KNN for sample dataset'''\n",
    "# Split into training and test set \n",
    "X_train, X_test, y_train, y_test = train_test_split(x, y, test_size = 0.5, random_state=42) \n",
    "  \n",
    "knn = KNeighborsClassifier(n_neighbors=3)   \n",
    "knn.fit(X_train, y_train) \n",
    "y_pred = knn.predict(X_test) \n",
    "\n",
    "# Predict on dataset which model has not seen before \n",
    "print(y_pred) \n",
    "print(y_test)"
   ]
  },
  {
   "cell_type": "code",
   "execution_count": 23,
   "id": "intimate-bacon",
   "metadata": {},
   "outputs": [
    {
     "name": "stdout",
     "output_type": "stream",
     "text": [
      "['orange']\n"
     ]
    }
   ],
   "source": [
    "print(knn.predict([[6,6]]))"
   ]
  },
  {
   "cell_type": "code",
   "execution_count": 24,
   "id": "stunning-richmond",
   "metadata": {},
   "outputs": [
    {
     "data": {
      "text/plain": [
       "0.3333333333333333"
      ]
     },
     "execution_count": 24,
     "metadata": {},
     "output_type": "execute_result"
    }
   ],
   "source": [
    "from sklearn.metrics import accuracy_score\n",
    "accuracy_score(y_test, y_pred)"
   ]
  },
  {
   "cell_type": "code",
   "execution_count": 25,
   "id": "honest-saudi",
   "metadata": {},
   "outputs": [
    {
     "name": "stdout",
     "output_type": "stream",
     "text": [
      "['orange' 'orange' 'orange']\n",
      "        2\n",
      "0    blue\n",
      "1    blue\n",
      "5  orange\n"
     ]
    },
    {
     "name": "stderr",
     "output_type": "stream",
     "text": [
      "<ipython-input-25-7d509b6080a1>:3: DataConversionWarning: A column-vector y was passed when a 1d array was expected. Please change the shape of y to (n_samples, ), for example using ravel().\n",
      "  knnw.fit(X_train, y_train)\n"
     ]
    }
   ],
   "source": [
    "'''Weighted KNN for sample dataset'''\n",
    "knnw = KNeighborsClassifier(n_neighbors=3,weights='distance')   \n",
    "knnw.fit(X_train, y_train) \n",
    "y_predw = knnw.predict(X_test) \n",
    "\n",
    "# Predict on dataset which model has not seen before \n",
    "print(y_predw) \n",
    "print(y_test)"
   ]
  },
  {
   "cell_type": "code",
   "execution_count": 26,
   "id": "intense-hollow",
   "metadata": {},
   "outputs": [
    {
     "name": "stdout",
     "output_type": "stream",
     "text": [
      "['orange']\n"
     ]
    }
   ],
   "source": [
    "print(knnw.predict([[6,6]]))"
   ]
  },
  {
   "cell_type": "code",
   "execution_count": 27,
   "id": "varied-railway",
   "metadata": {},
   "outputs": [
    {
     "name": "stderr",
     "output_type": "stream",
     "text": [
      "<ipython-input-27-0dca707459c3>:3: DataConversionWarning: A column-vector y was passed when a 1d array was expected. Please change the shape of y to (n_samples, ), for example using ravel().\n",
      "  knn.fit(x_trainp, y_trainp)\n",
      "<ipython-input-27-0dca707459c3>:8: DataConversionWarning: A column-vector y was passed when a 1d array was expected. Please change the shape of y to (n_samples, ), for example using ravel().\n",
      "  knnw.fit(x_trainp, y_trainp)\n"
     ]
    }
   ],
   "source": [
    "'''Knn for pima indian diabetes dataset'''\n",
    "knn = KNeighborsClassifier(n_neighbors=7)   \n",
    "knn.fit(x_trainp, y_trainp) \n",
    "y_predp = knn.predict(x_testp) \n",
    "\n",
    "'''Weighted KNN for pima indian diabetes dataset'''\n",
    "knnw = KNeighborsClassifier(n_neighbors=7,weights = 'distance')   \n",
    "knnw.fit(x_trainp, y_trainp) \n",
    "y_predpw = knnw.predict(x_testp) "
   ]
  },
  {
   "cell_type": "code",
   "execution_count": 28,
   "id": "turned-platform",
   "metadata": {},
   "outputs": [
    {
     "name": "stdout",
     "output_type": "stream",
     "text": [
      "Knn prediction using sklearn for [2,99,60,17,161,36.6,0.453,21] : [0]\n",
      "Weighted Knn prediction using sklearn for [2,99,60,17,161,36.6,0.453,21] : [0]\n"
     ]
    }
   ],
   "source": [
    "print('Knn prediction using sklearn for [2,99,60,17,161,36.6,0.453,21] :',knn.predict([[2,99,60,17,161,36.6,0.453,21]]))\n",
    "print('Weighted Knn prediction using sklearn for [2,99,60,17,161,36.6,0.453,21] :',knnw.predict([[2,99,60,17,161,36.6,0.453,21]]))"
   ]
  },
  {
   "cell_type": "code",
   "execution_count": 29,
   "id": "manufactured-belarus",
   "metadata": {},
   "outputs": [
    {
     "name": "stdout",
     "output_type": "stream",
     "text": [
      "Knn using sklearn - model accuracy : 0.8354978354978355\n",
      "Weighted Knn using sklearn - model accuracy : 0.8268398268398268\n"
     ]
    }
   ],
   "source": [
    "from sklearn.metrics import accuracy_score\n",
    "print('Knn using sklearn - model accuracy :',accuracy_score(y_testp, y_predp))\n",
    "print('Weighted Knn using sklearn - model accuracy :',accuracy_score(y_testp, y_predpw))"
   ]
  },
  {
   "cell_type": "code",
   "execution_count": null,
   "id": "willing-prior",
   "metadata": {},
   "outputs": [],
   "source": []
  }
 ],
 "metadata": {
  "kernelspec": {
   "display_name": "Python 3",
   "language": "python",
   "name": "python3"
  },
  "language_info": {
   "codemirror_mode": {
    "name": "ipython",
    "version": 3
   },
   "file_extension": ".py",
   "mimetype": "text/x-python",
   "name": "python",
   "nbconvert_exporter": "python",
   "pygments_lexer": "ipython3",
   "version": "3.8.5"
  }
 },
 "nbformat": 4,
 "nbformat_minor": 5
}
